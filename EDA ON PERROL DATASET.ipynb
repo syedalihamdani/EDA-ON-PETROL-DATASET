{
 "cells": [
  {
   "cell_type": "markdown",
   "id": "a43b066d",
   "metadata": {},
   "source": [
    "# EDA  Petrol/Gas Price Worldwide"
   ]
  },
  {
   "cell_type": "markdown",
   "id": "13d8e0b0",
   "metadata": {},
   "source": [
    "#### In this notebook, we will do exploratory data analysis and data visualization of petrol/gas price worldwide, world share and consumption per capita. We will deep dive into the dataset to view the fuel prices worldwide, GDP per capita, GDP per capita a country can buy and how many times yearly gallons per capita a country can buy."
   ]
  },
  {
   "cell_type": "markdown",
   "id": "b42a7f84",
   "metadata": {},
   "source": [
    "### The approach we will be use in this notebook is as follows"
   ]
  },
  {
   "cell_type": "markdown",
   "id": "cff24027",
   "metadata": {},
   "source": [
    "##### 1.Import the useful data science libraries\n",
    "##### 2.Load the dataset\n",
    "##### 3.Clean dataset\n",
    "##### 4.Correlation between the variables\n",
    "##### 5.Exploratory data analysis to understand the data\n",
    "##### 6.Data visualation"
   ]
  },
  {
   "cell_type": "markdown",
   "id": "08b45e6f",
   "metadata": {},
   "source": [
    "## Step1 - Import useful libraries"
   ]
  },
  {
   "cell_type": "code",
   "execution_count": 63,
   "id": "9c7f8c31",
   "metadata": {},
   "outputs": [],
   "source": [
    "\n",
    "# Import numpy for numerical computation\n",
    "import numpy as np\n",
    "\n",
    "# Import pandas for data analysis\n",
    "import pandas as pd\n",
    "\n",
    "# Import matplotlib and seaborn for data visualization\n",
    "import matplotlib.pyplot as plt\n",
    "import seaborn as sns\n",
    "%matplotlib inline"
   ]
  },
  {
   "cell_type": "markdown",
   "id": "438029cd",
   "metadata": {},
   "source": [
    "## Step2 - Load Dataset"
   ]
  },
  {
   "cell_type": "code",
   "execution_count": 64,
   "id": "3ea4036a",
   "metadata": {},
   "outputs": [],
   "source": [
    "# Importing data set\n",
    "df=pd.read_csv('./petrol2.csv',encoding='latin-1')"
   ]
  },
  {
   "cell_type": "code",
   "execution_count": 65,
   "id": "71d60521",
   "metadata": {},
   "outputs": [
    {
     "data": {
      "text/html": [
       "<div>\n",
       "<style scoped>\n",
       "    .dataframe tbody tr th:only-of-type {\n",
       "        vertical-align: middle;\n",
       "    }\n",
       "\n",
       "    .dataframe tbody tr th {\n",
       "        vertical-align: top;\n",
       "    }\n",
       "\n",
       "    .dataframe thead th {\n",
       "        text-align: right;\n",
       "    }\n",
       "</style>\n",
       "<table border=\"1\" class=\"dataframe\">\n",
       "  <thead>\n",
       "    <tr style=\"text-align: right;\">\n",
       "      <th></th>\n",
       "      <th>S#</th>\n",
       "      <th>Country</th>\n",
       "      <th>Daily Oil Consumption (Barrels)</th>\n",
       "      <th>World Share</th>\n",
       "      <th>Yearly Gallons Per Capita</th>\n",
       "      <th>Price Per Gallon (USD)</th>\n",
       "      <th>Price Per Liter (USD)</th>\n",
       "      <th>Price Per Liter (PKR)</th>\n",
       "      <th>GDP Per Capita ( USD )</th>\n",
       "      <th>Gallons GDP Per Capita Can Buy</th>\n",
       "      <th>xTimes Yearly Gallons Per Capita Buy</th>\n",
       "    </tr>\n",
       "  </thead>\n",
       "  <tbody>\n",
       "    <tr>\n",
       "      <th>0</th>\n",
       "      <td>1</td>\n",
       "      <td>United States</td>\n",
       "      <td>19,687,287</td>\n",
       "      <td>20%</td>\n",
       "      <td>934.3</td>\n",
       "      <td>5.19</td>\n",
       "      <td>1.37</td>\n",
       "      <td>289.97</td>\n",
       "      <td>63,414</td>\n",
       "      <td>12,218</td>\n",
       "      <td>13</td>\n",
       "    </tr>\n",
       "    <tr>\n",
       "      <th>1</th>\n",
       "      <td>2</td>\n",
       "      <td>China</td>\n",
       "      <td>12,791,553</td>\n",
       "      <td>13%</td>\n",
       "      <td>138.7</td>\n",
       "      <td>5.42</td>\n",
       "      <td>1.43</td>\n",
       "      <td>302.87</td>\n",
       "      <td>10,435</td>\n",
       "      <td>1,925</td>\n",
       "      <td>14</td>\n",
       "    </tr>\n",
       "    <tr>\n",
       "      <th>2</th>\n",
       "      <td>3</td>\n",
       "      <td>India</td>\n",
       "      <td>4,443,000</td>\n",
       "      <td>5%</td>\n",
       "      <td>51.4</td>\n",
       "      <td>5.05</td>\n",
       "      <td>1.33</td>\n",
       "      <td>281.93</td>\n",
       "      <td>1,901</td>\n",
       "      <td>376</td>\n",
       "      <td>7</td>\n",
       "    </tr>\n",
       "    <tr>\n",
       "      <th>3</th>\n",
       "      <td>4</td>\n",
       "      <td>Japan</td>\n",
       "      <td>4,012,877</td>\n",
       "      <td>4%</td>\n",
       "      <td>481.5</td>\n",
       "      <td>4.69</td>\n",
       "      <td>1.24</td>\n",
       "      <td>262.05</td>\n",
       "      <td>40,193</td>\n",
       "      <td>8,570</td>\n",
       "      <td>18</td>\n",
       "    </tr>\n",
       "    <tr>\n",
       "      <th>4</th>\n",
       "      <td>5</td>\n",
       "      <td>Russia</td>\n",
       "      <td>3,631,287</td>\n",
       "      <td>4%</td>\n",
       "      <td>383.2</td>\n",
       "      <td>3.41</td>\n",
       "      <td>0.90</td>\n",
       "      <td>190.56</td>\n",
       "      <td>10,127</td>\n",
       "      <td>2,970</td>\n",
       "      <td>8</td>\n",
       "    </tr>\n",
       "  </tbody>\n",
       "</table>\n",
       "</div>"
      ],
      "text/plain": [
       "   S#        Country Daily Oil Consumption (Barrels) World Share  \\\n",
       "0   1  United States                      19,687,287         20%   \n",
       "1   2          China                      12,791,553         13%   \n",
       "2   3          India                       4,443,000          5%   \n",
       "3   4          Japan                       4,012,877          4%   \n",
       "4   5         Russia                       3,631,287          4%   \n",
       "\n",
       "   Yearly Gallons Per Capita  Price Per Gallon (USD)  Price Per Liter (USD)  \\\n",
       "0                      934.3                    5.19                   1.37   \n",
       "1                      138.7                    5.42                   1.43   \n",
       "2                       51.4                    5.05                   1.33   \n",
       "3                      481.5                    4.69                   1.24   \n",
       "4                      383.2                    3.41                   0.90   \n",
       "\n",
       "   Price Per Liter (PKR) GDP Per Capita ( USD )  \\\n",
       "0                 289.97                 63,414   \n",
       "1                 302.87                 10,435   \n",
       "2                 281.93                  1,901   \n",
       "3                 262.05                 40,193   \n",
       "4                 190.56                 10,127   \n",
       "\n",
       "  Gallons GDP Per Capita Can Buy  xTimes Yearly Gallons Per Capita Buy  \n",
       "0                         12,218                                    13  \n",
       "1                          1,925                                    14  \n",
       "2                            376                                     7  \n",
       "3                          8,570                                    18  \n",
       "4                          2,970                                     8  "
      ]
     },
     "execution_count": 65,
     "metadata": {},
     "output_type": "execute_result"
    }
   ],
   "source": [
    "df.head()"
   ]
  },
  {
   "cell_type": "markdown",
   "id": "e9299b45",
   "metadata": {},
   "source": [
    "## Step2 - Data Cleaning"
   ]
  },
  {
   "cell_type": "markdown",
   "id": "a1968581",
   "metadata": {},
   "source": [
    "#### Data Cleaning involves several sub steps in itself."
   ]
  },
  {
   "cell_type": "markdown",
   "id": "ad1193de",
   "metadata": {},
   "source": [
    "##### (a) Correct the Data types.\n",
    "##### (b) Drop the duplicates.\n",
    "##### (c) Handle missing values.\n",
    "##### (d) Drop anwanted columns.\n",
    "##### (e) Merge multiple data frames.\n",
    "##### (f) Set/Reset Index"
   ]
  },
  {
   "cell_type": "code",
   "execution_count": 66,
   "id": "a988308b",
   "metadata": {},
   "outputs": [
    {
     "data": {
      "text/plain": [
       "Index(['S#', 'Country', 'Daily Oil Consumption (Barrels)', 'World Share',\n",
       "       'Yearly Gallons Per Capita', 'Price Per Gallon (USD)',\n",
       "       'Price Per Liter (USD)', 'Price Per Liter (PKR)',\n",
       "       'GDP Per Capita ( USD )', 'Gallons GDP Per Capita Can Buy',\n",
       "       'xTimes Yearly Gallons Per Capita Buy'],\n",
       "      dtype='object')"
      ]
     },
     "execution_count": 66,
     "metadata": {},
     "output_type": "execute_result"
    }
   ],
   "source": [
    "# To see the names of the comumns\n",
    "df.columns"
   ]
  },
  {
   "cell_type": "code",
   "execution_count": 67,
   "id": "c456d37b",
   "metadata": {},
   "outputs": [
    {
     "data": {
      "text/plain": [
       "(181, 11)"
      ]
     },
     "execution_count": 67,
     "metadata": {},
     "output_type": "execute_result"
    }
   ],
   "source": [
    "# Number of rows and columns\n",
    "df.shape"
   ]
  },
  {
   "cell_type": "markdown",
   "id": "d3ef24d6",
   "metadata": {},
   "source": [
    "###### Sub Step (a) Correct the data type"
   ]
  },
  {
   "cell_type": "code",
   "execution_count": 68,
   "id": "61ee6ae0",
   "metadata": {},
   "outputs": [
    {
     "data": {
      "text/plain": [
       "S#                                        int64\n",
       "Country                                  object\n",
       "Daily Oil Consumption (Barrels)          object\n",
       "World Share                              object\n",
       "Yearly Gallons Per Capita               float64\n",
       "Price Per Gallon (USD)                  float64\n",
       "Price Per Liter (USD)                   float64\n",
       "Price Per Liter (PKR)                   float64\n",
       "GDP Per Capita ( USD )                   object\n",
       "Gallons GDP Per Capita Can Buy           object\n",
       "xTimes Yearly Gallons Per Capita Buy      int64\n",
       "dtype: object"
      ]
     },
     "execution_count": 68,
     "metadata": {},
     "output_type": "execute_result"
    }
   ],
   "source": [
    "# To see the datatypes of all the columns\n",
    "df.dtypes"
   ]
  },
  {
   "cell_type": "markdown",
   "id": "e4b90981",
   "metadata": {},
   "source": [
    "#### Observation: Daily Oil Consumption (Barrels) , World Share , GDP Per Capita (USD),Gallons GDP Per Capita Can Buy  have incorrect datatype"
   ]
  },
  {
   "cell_type": "code",
   "execution_count": 69,
   "id": "fe144a5c",
   "metadata": {},
   "outputs": [],
   "source": [
    "df['Daily Oil Consumption (Barrels)']=df['Daily Oil Consumption (Barrels)'].apply(lambda x: x.replace(',',''))\n",
    "df['Daily Oil Consumption (Barrels)']=df['Daily Oil Consumption (Barrels)'].astype(float)"
   ]
  },
  {
   "cell_type": "code",
   "execution_count": 70,
   "id": "a0a2a7da",
   "metadata": {},
   "outputs": [],
   "source": [
    "df['World Share']=df['World Share'].apply(lambda x: x.replace('%',''))\n",
    "df['World Share']=df['World Share'].astype(float)"
   ]
  },
  {
   "cell_type": "code",
   "execution_count": 71,
   "id": "c8e847dc",
   "metadata": {},
   "outputs": [],
   "source": [
    "df['GDP Per Capita ( USD )']=df['GDP Per Capita ( USD )'].apply(lambda x: x.replace(',',''))\n",
    "df['GDP Per Capita ( USD )']=df['GDP Per Capita ( USD )'].astype(float)"
   ]
  },
  {
   "cell_type": "code",
   "execution_count": 79,
   "id": "32bd9bbb",
   "metadata": {},
   "outputs": [],
   "source": [
    "df['Gallons GDP Per Capita Can Buy']=df['Gallons GDP Per Capita Can Buy'].apply(lambda x: x.replace(',',''))\n",
    "df['Gallons GDP Per Capita Can Buy']=df['Gallons GDP Per Capita Can Buy'].astype(float)"
   ]
  },
  {
   "cell_type": "code",
   "execution_count": 80,
   "id": "722dd3d4",
   "metadata": {},
   "outputs": [
    {
     "data": {
      "text/plain": [
       "S#                                        int64\n",
       "Country                                  object\n",
       "Daily Oil Consumption (Barrels)         float64\n",
       "World Share                             float64\n",
       "Yearly Gallons Per Capita               float64\n",
       "Price Per Gallon (USD)                  float64\n",
       "Price Per Liter (USD)                   float64\n",
       "Price Per Liter (PKR)                   float64\n",
       "GDP Per Capita ( USD )                  float64\n",
       "Gallons GDP Per Capita Can Buy          float64\n",
       "xTimes Yearly Gallons Per Capita Buy      int64\n",
       "dtype: object"
      ]
     },
     "execution_count": 80,
     "metadata": {},
     "output_type": "execute_result"
    }
   ],
   "source": [
    "df.dtypes"
   ]
  },
  {
   "cell_type": "code",
   "execution_count": 81,
   "id": "75002e2d",
   "metadata": {},
   "outputs": [
    {
     "data": {
      "text/html": [
       "<div>\n",
       "<style scoped>\n",
       "    .dataframe tbody tr th:only-of-type {\n",
       "        vertical-align: middle;\n",
       "    }\n",
       "\n",
       "    .dataframe tbody tr th {\n",
       "        vertical-align: top;\n",
       "    }\n",
       "\n",
       "    .dataframe thead th {\n",
       "        text-align: right;\n",
       "    }\n",
       "</style>\n",
       "<table border=\"1\" class=\"dataframe\">\n",
       "  <thead>\n",
       "    <tr style=\"text-align: right;\">\n",
       "      <th></th>\n",
       "      <th>S#</th>\n",
       "      <th>Country</th>\n",
       "      <th>Daily Oil Consumption (Barrels)</th>\n",
       "      <th>World Share</th>\n",
       "      <th>Yearly Gallons Per Capita</th>\n",
       "      <th>Price Per Gallon (USD)</th>\n",
       "      <th>Price Per Liter (USD)</th>\n",
       "      <th>Price Per Liter (PKR)</th>\n",
       "      <th>GDP Per Capita ( USD )</th>\n",
       "      <th>Gallons GDP Per Capita Can Buy</th>\n",
       "      <th>xTimes Yearly Gallons Per Capita Buy</th>\n",
       "    </tr>\n",
       "  </thead>\n",
       "  <tbody>\n",
       "    <tr>\n",
       "      <th>0</th>\n",
       "      <td>1</td>\n",
       "      <td>United States</td>\n",
       "      <td>19687287.0</td>\n",
       "      <td>20.0</td>\n",
       "      <td>934.3</td>\n",
       "      <td>5.19</td>\n",
       "      <td>1.37</td>\n",
       "      <td>289.97</td>\n",
       "      <td>63414.0</td>\n",
       "      <td>12218.0</td>\n",
       "      <td>13</td>\n",
       "    </tr>\n",
       "    <tr>\n",
       "      <th>1</th>\n",
       "      <td>2</td>\n",
       "      <td>China</td>\n",
       "      <td>12791553.0</td>\n",
       "      <td>13.0</td>\n",
       "      <td>138.7</td>\n",
       "      <td>5.42</td>\n",
       "      <td>1.43</td>\n",
       "      <td>302.87</td>\n",
       "      <td>10435.0</td>\n",
       "      <td>1925.0</td>\n",
       "      <td>14</td>\n",
       "    </tr>\n",
       "    <tr>\n",
       "      <th>2</th>\n",
       "      <td>3</td>\n",
       "      <td>India</td>\n",
       "      <td>4443000.0</td>\n",
       "      <td>5.0</td>\n",
       "      <td>51.4</td>\n",
       "      <td>5.05</td>\n",
       "      <td>1.33</td>\n",
       "      <td>281.93</td>\n",
       "      <td>1901.0</td>\n",
       "      <td>376.0</td>\n",
       "      <td>7</td>\n",
       "    </tr>\n",
       "    <tr>\n",
       "      <th>3</th>\n",
       "      <td>4</td>\n",
       "      <td>Japan</td>\n",
       "      <td>4012877.0</td>\n",
       "      <td>4.0</td>\n",
       "      <td>481.5</td>\n",
       "      <td>4.69</td>\n",
       "      <td>1.24</td>\n",
       "      <td>262.05</td>\n",
       "      <td>40193.0</td>\n",
       "      <td>8570.0</td>\n",
       "      <td>18</td>\n",
       "    </tr>\n",
       "    <tr>\n",
       "      <th>4</th>\n",
       "      <td>5</td>\n",
       "      <td>Russia</td>\n",
       "      <td>3631287.0</td>\n",
       "      <td>4.0</td>\n",
       "      <td>383.2</td>\n",
       "      <td>3.41</td>\n",
       "      <td>0.90</td>\n",
       "      <td>190.56</td>\n",
       "      <td>10127.0</td>\n",
       "      <td>2970.0</td>\n",
       "      <td>8</td>\n",
       "    </tr>\n",
       "  </tbody>\n",
       "</table>\n",
       "</div>"
      ],
      "text/plain": [
       "   S#        Country  Daily Oil Consumption (Barrels)  World Share  \\\n",
       "0   1  United States                       19687287.0         20.0   \n",
       "1   2          China                       12791553.0         13.0   \n",
       "2   3          India                        4443000.0          5.0   \n",
       "3   4          Japan                        4012877.0          4.0   \n",
       "4   5         Russia                        3631287.0          4.0   \n",
       "\n",
       "   Yearly Gallons Per Capita  Price Per Gallon (USD)  Price Per Liter (USD)  \\\n",
       "0                      934.3                    5.19                   1.37   \n",
       "1                      138.7                    5.42                   1.43   \n",
       "2                       51.4                    5.05                   1.33   \n",
       "3                      481.5                    4.69                   1.24   \n",
       "4                      383.2                    3.41                   0.90   \n",
       "\n",
       "   Price Per Liter (PKR)  GDP Per Capita ( USD )  \\\n",
       "0                 289.97                 63414.0   \n",
       "1                 302.87                 10435.0   \n",
       "2                 281.93                  1901.0   \n",
       "3                 262.05                 40193.0   \n",
       "4                 190.56                 10127.0   \n",
       "\n",
       "   Gallons GDP Per Capita Can Buy  xTimes Yearly Gallons Per Capita Buy  \n",
       "0                         12218.0                                    13  \n",
       "1                          1925.0                                    14  \n",
       "2                           376.0                                     7  \n",
       "3                          8570.0                                    18  \n",
       "4                          2970.0                                     8  "
      ]
     },
     "execution_count": 81,
     "metadata": {},
     "output_type": "execute_result"
    }
   ],
   "source": [
    "df.head()"
   ]
  },
  {
   "cell_type": "markdown",
   "id": "3a3a9fb7",
   "metadata": {},
   "source": [
    "##### Observation: Now all the datatypes are in correct form"
   ]
  },
  {
   "cell_type": "markdown",
   "id": "2940ed1e",
   "metadata": {},
   "source": [
    "###### Sub Step (b) Drop the duplicate"
   ]
  },
  {
   "cell_type": "code",
   "execution_count": 82,
   "id": "b41c5d71",
   "metadata": {},
   "outputs": [
    {
     "data": {
      "text/plain": [
       "0"
      ]
     },
     "execution_count": 82,
     "metadata": {},
     "output_type": "execute_result"
    }
   ],
   "source": [
    "df.duplicated().sum()"
   ]
  },
  {
   "cell_type": "markdown",
   "id": "70df1e00",
   "metadata": {},
   "source": [
    "###### Observation: There is no duplicate row in the data frame"
   ]
  },
  {
   "cell_type": "markdown",
   "id": "23f3948a",
   "metadata": {},
   "source": [
    "#### Sub Step (c) Handle the missing value"
   ]
  },
  {
   "cell_type": "code",
   "execution_count": 83,
   "id": "5a2e4c0d",
   "metadata": {},
   "outputs": [
    {
     "data": {
      "text/plain": [
       "S#                                      0\n",
       "Country                                 0\n",
       "Daily Oil Consumption (Barrels)         0\n",
       "World Share                             0\n",
       "Yearly Gallons Per Capita               0\n",
       "Price Per Gallon (USD)                  0\n",
       "Price Per Liter (USD)                   0\n",
       "Price Per Liter (PKR)                   0\n",
       "GDP Per Capita ( USD )                  0\n",
       "Gallons GDP Per Capita Can Buy          0\n",
       "xTimes Yearly Gallons Per Capita Buy    0\n",
       "dtype: int64"
      ]
     },
     "execution_count": 83,
     "metadata": {},
     "output_type": "execute_result"
    }
   ],
   "source": [
    "df.isnull().sum()"
   ]
  },
  {
   "cell_type": "markdown",
   "id": "0763bd80",
   "metadata": {},
   "source": [
    "#### Observation: There is no missing value in the data frame"
   ]
  },
  {
   "cell_type": "markdown",
   "id": "7bf7cf6a",
   "metadata": {},
   "source": [
    "#### Sub Step(d) Drop anwanted columns."
   ]
  },
  {
   "cell_type": "code",
   "execution_count": 89,
   "id": "4df45530",
   "metadata": {},
   "outputs": [],
   "source": [
    "#  PKR to usd price has been changed so we don't need this column anymore.\n",
    "df=df.drop(['Price Per Liter (PKR)','S#'],axis=1)"
   ]
  },
  {
   "cell_type": "code",
   "execution_count": 92,
   "id": "ae760574",
   "metadata": {},
   "outputs": [
    {
     "data": {
      "text/html": [
       "<div>\n",
       "<style scoped>\n",
       "    .dataframe tbody tr th:only-of-type {\n",
       "        vertical-align: middle;\n",
       "    }\n",
       "\n",
       "    .dataframe tbody tr th {\n",
       "        vertical-align: top;\n",
       "    }\n",
       "\n",
       "    .dataframe thead th {\n",
       "        text-align: right;\n",
       "    }\n",
       "</style>\n",
       "<table border=\"1\" class=\"dataframe\">\n",
       "  <thead>\n",
       "    <tr style=\"text-align: right;\">\n",
       "      <th></th>\n",
       "      <th>Country</th>\n",
       "      <th>Daily Oil Consumption (Barrels)</th>\n",
       "      <th>World Share</th>\n",
       "      <th>Yearly Gallons Per Capita</th>\n",
       "      <th>Price Per Gallon (USD)</th>\n",
       "      <th>Price Per Liter (USD)</th>\n",
       "      <th>GDP Per Capita ( USD )</th>\n",
       "      <th>Gallons GDP Per Capita Can Buy</th>\n",
       "      <th>xTimes Yearly Gallons Per Capita Buy</th>\n",
       "    </tr>\n",
       "  </thead>\n",
       "  <tbody>\n",
       "    <tr>\n",
       "      <th>176</th>\n",
       "      <td>Belize</td>\n",
       "      <td>4001.0</td>\n",
       "      <td>0.0</td>\n",
       "      <td>166.5</td>\n",
       "      <td>6.68</td>\n",
       "      <td>1.76</td>\n",
       "      <td>4436.0</td>\n",
       "      <td>664.0</td>\n",
       "      <td>4</td>\n",
       "    </tr>\n",
       "    <tr>\n",
       "      <th>177</th>\n",
       "      <td>Niue</td>\n",
       "      <td>51.0</td>\n",
       "      <td>0.0</td>\n",
       "      <td>484.4</td>\n",
       "      <td>11.43</td>\n",
       "      <td>3.02</td>\n",
       "      <td>15586.0</td>\n",
       "      <td>1364.0</td>\n",
       "      <td>3</td>\n",
       "    </tr>\n",
       "    <tr>\n",
       "      <th>178</th>\n",
       "      <td>Saint Pierre &amp; Miquelon</td>\n",
       "      <td>660.0</td>\n",
       "      <td>0.0</td>\n",
       "      <td>1705.1</td>\n",
       "      <td>8.27</td>\n",
       "      <td>2.19</td>\n",
       "      <td>34900.0</td>\n",
       "      <td>4220.0</td>\n",
       "      <td>2</td>\n",
       "    </tr>\n",
       "    <tr>\n",
       "      <th>179</th>\n",
       "      <td>Montserrat</td>\n",
       "      <td>400.0</td>\n",
       "      <td>0.0</td>\n",
       "      <td>1231.1</td>\n",
       "      <td>4.57</td>\n",
       "      <td>1.21</td>\n",
       "      <td>12589.0</td>\n",
       "      <td>2755.0</td>\n",
       "      <td>2</td>\n",
       "    </tr>\n",
       "    <tr>\n",
       "      <th>180</th>\n",
       "      <td>Tonga</td>\n",
       "      <td>899.0</td>\n",
       "      <td>0.0</td>\n",
       "      <td>136.3</td>\n",
       "      <td>16.20</td>\n",
       "      <td>4.28</td>\n",
       "      <td>4903.0</td>\n",
       "      <td>303.0</td>\n",
       "      <td>2</td>\n",
       "    </tr>\n",
       "  </tbody>\n",
       "</table>\n",
       "</div>"
      ],
      "text/plain": [
       "                     Country  Daily Oil Consumption (Barrels)  World Share  \\\n",
       "176                   Belize                           4001.0          0.0   \n",
       "177                     Niue                             51.0          0.0   \n",
       "178  Saint Pierre & Miquelon                            660.0          0.0   \n",
       "179               Montserrat                            400.0          0.0   \n",
       "180                    Tonga                            899.0          0.0   \n",
       "\n",
       "     Yearly Gallons Per Capita  Price Per Gallon (USD)  Price Per Liter (USD)  \\\n",
       "176                      166.5                    6.68                   1.76   \n",
       "177                      484.4                   11.43                   3.02   \n",
       "178                     1705.1                    8.27                   2.19   \n",
       "179                     1231.1                    4.57                   1.21   \n",
       "180                      136.3                   16.20                   4.28   \n",
       "\n",
       "     GDP Per Capita ( USD )  Gallons GDP Per Capita Can Buy  \\\n",
       "176                  4436.0                           664.0   \n",
       "177                 15586.0                          1364.0   \n",
       "178                 34900.0                          4220.0   \n",
       "179                 12589.0                          2755.0   \n",
       "180                  4903.0                           303.0   \n",
       "\n",
       "     xTimes Yearly Gallons Per Capita Buy  \n",
       "176                                     4  \n",
       "177                                     3  \n",
       "178                                     2  \n",
       "179                                     2  \n",
       "180                                     2  "
      ]
     },
     "execution_count": 92,
     "metadata": {},
     "output_type": "execute_result"
    }
   ],
   "source": [
    "df.tail()"
   ]
  },
  {
   "cell_type": "markdown",
   "id": "a8790520",
   "metadata": {},
   "source": [
    "###### Obervation: Unwanted columns are deleted."
   ]
  },
  {
   "cell_type": "markdown",
   "id": "5e49e6d7",
   "metadata": {},
   "source": [
    "###### Sub Step (d) Merge multiple data frame"
   ]
  },
  {
   "cell_type": "markdown",
   "id": "02c6a777",
   "metadata": {},
   "source": [
    "###### Observation: There is only one data frame so don't need to merge any onther data frame"
   ]
  },
  {
   "cell_type": "markdown",
   "id": "892351a0",
   "metadata": {},
   "source": [
    "#### Sub Step (f) Set/Reset index "
   ]
  },
  {
   "cell_type": "markdown",
   "id": "d9cca7c4",
   "metadata": {},
   "source": [
    "##### Observation: There is no need to set index and data cleaning step is completed."
   ]
  },
  {
   "cell_type": "markdown",
   "id": "a156237b",
   "metadata": {},
   "source": [
    "### Step 4.Correlation between the variables"
   ]
  },
  {
   "cell_type": "code",
   "execution_count": 93,
   "id": "42355579",
   "metadata": {},
   "outputs": [
    {
     "data": {
      "text/html": [
       "<div>\n",
       "<style scoped>\n",
       "    .dataframe tbody tr th:only-of-type {\n",
       "        vertical-align: middle;\n",
       "    }\n",
       "\n",
       "    .dataframe tbody tr th {\n",
       "        vertical-align: top;\n",
       "    }\n",
       "\n",
       "    .dataframe thead th {\n",
       "        text-align: right;\n",
       "    }\n",
       "</style>\n",
       "<table border=\"1\" class=\"dataframe\">\n",
       "  <thead>\n",
       "    <tr style=\"text-align: right;\">\n",
       "      <th></th>\n",
       "      <th>Daily Oil Consumption (Barrels)</th>\n",
       "      <th>World Share</th>\n",
       "      <th>Yearly Gallons Per Capita</th>\n",
       "      <th>Price Per Gallon (USD)</th>\n",
       "      <th>Price Per Liter (USD)</th>\n",
       "      <th>GDP Per Capita ( USD )</th>\n",
       "      <th>Gallons GDP Per Capita Can Buy</th>\n",
       "      <th>xTimes Yearly Gallons Per Capita Buy</th>\n",
       "    </tr>\n",
       "  </thead>\n",
       "  <tbody>\n",
       "    <tr>\n",
       "      <th>Daily Oil Consumption (Barrels)</th>\n",
       "      <td>1.000000</td>\n",
       "      <td>0.995882</td>\n",
       "      <td>0.149248</td>\n",
       "      <td>-0.029965</td>\n",
       "      <td>-0.030106</td>\n",
       "      <td>0.190066</td>\n",
       "      <td>0.051464</td>\n",
       "      <td>0.007332</td>\n",
       "    </tr>\n",
       "    <tr>\n",
       "      <th>World Share</th>\n",
       "      <td>0.995882</td>\n",
       "      <td>1.000000</td>\n",
       "      <td>0.137480</td>\n",
       "      <td>-0.030067</td>\n",
       "      <td>-0.030217</td>\n",
       "      <td>0.181224</td>\n",
       "      <td>0.064107</td>\n",
       "      <td>0.022268</td>\n",
       "    </tr>\n",
       "    <tr>\n",
       "      <th>Yearly Gallons Per Capita</th>\n",
       "      <td>0.149248</td>\n",
       "      <td>0.137480</td>\n",
       "      <td>1.000000</td>\n",
       "      <td>0.057293</td>\n",
       "      <td>0.057471</td>\n",
       "      <td>0.622038</td>\n",
       "      <td>0.150975</td>\n",
       "      <td>-0.025534</td>\n",
       "    </tr>\n",
       "    <tr>\n",
       "      <th>Price Per Gallon (USD)</th>\n",
       "      <td>-0.029965</td>\n",
       "      <td>-0.030067</td>\n",
       "      <td>0.057293</td>\n",
       "      <td>1.000000</td>\n",
       "      <td>0.999997</td>\n",
       "      <td>0.182356</td>\n",
       "      <td>-0.127351</td>\n",
       "      <td>-0.144467</td>\n",
       "    </tr>\n",
       "    <tr>\n",
       "      <th>Price Per Liter (USD)</th>\n",
       "      <td>-0.030106</td>\n",
       "      <td>-0.030217</td>\n",
       "      <td>0.057471</td>\n",
       "      <td>0.999997</td>\n",
       "      <td>1.000000</td>\n",
       "      <td>0.182663</td>\n",
       "      <td>-0.127428</td>\n",
       "      <td>-0.144567</td>\n",
       "    </tr>\n",
       "    <tr>\n",
       "      <th>GDP Per Capita ( USD )</th>\n",
       "      <td>0.190066</td>\n",
       "      <td>0.181224</td>\n",
       "      <td>0.622038</td>\n",
       "      <td>0.182356</td>\n",
       "      <td>0.182663</td>\n",
       "      <td>1.000000</td>\n",
       "      <td>0.188181</td>\n",
       "      <td>0.021875</td>\n",
       "    </tr>\n",
       "    <tr>\n",
       "      <th>Gallons GDP Per Capita Can Buy</th>\n",
       "      <td>0.051464</td>\n",
       "      <td>0.064107</td>\n",
       "      <td>0.150975</td>\n",
       "      <td>-0.127351</td>\n",
       "      <td>-0.127428</td>\n",
       "      <td>0.188181</td>\n",
       "      <td>1.000000</td>\n",
       "      <td>0.966148</td>\n",
       "    </tr>\n",
       "    <tr>\n",
       "      <th>xTimes Yearly Gallons Per Capita Buy</th>\n",
       "      <td>0.007332</td>\n",
       "      <td>0.022268</td>\n",
       "      <td>-0.025534</td>\n",
       "      <td>-0.144467</td>\n",
       "      <td>-0.144567</td>\n",
       "      <td>0.021875</td>\n",
       "      <td>0.966148</td>\n",
       "      <td>1.000000</td>\n",
       "    </tr>\n",
       "  </tbody>\n",
       "</table>\n",
       "</div>"
      ],
      "text/plain": [
       "                                      Daily Oil Consumption (Barrels)  \\\n",
       "Daily Oil Consumption (Barrels)                              1.000000   \n",
       "World Share                                                  0.995882   \n",
       "Yearly Gallons Per Capita                                    0.149248   \n",
       "Price Per Gallon (USD)                                      -0.029965   \n",
       "Price Per Liter (USD)                                       -0.030106   \n",
       "GDP Per Capita ( USD )                                       0.190066   \n",
       "Gallons GDP Per Capita Can Buy                               0.051464   \n",
       "xTimes Yearly Gallons Per Capita Buy                         0.007332   \n",
       "\n",
       "                                      World Share  Yearly Gallons Per Capita  \\\n",
       "Daily Oil Consumption (Barrels)          0.995882                   0.149248   \n",
       "World Share                              1.000000                   0.137480   \n",
       "Yearly Gallons Per Capita                0.137480                   1.000000   \n",
       "Price Per Gallon (USD)                  -0.030067                   0.057293   \n",
       "Price Per Liter (USD)                   -0.030217                   0.057471   \n",
       "GDP Per Capita ( USD )                   0.181224                   0.622038   \n",
       "Gallons GDP Per Capita Can Buy           0.064107                   0.150975   \n",
       "xTimes Yearly Gallons Per Capita Buy     0.022268                  -0.025534   \n",
       "\n",
       "                                      Price Per Gallon (USD)  \\\n",
       "Daily Oil Consumption (Barrels)                    -0.029965   \n",
       "World Share                                        -0.030067   \n",
       "Yearly Gallons Per Capita                           0.057293   \n",
       "Price Per Gallon (USD)                              1.000000   \n",
       "Price Per Liter (USD)                               0.999997   \n",
       "GDP Per Capita ( USD )                              0.182356   \n",
       "Gallons GDP Per Capita Can Buy                     -0.127351   \n",
       "xTimes Yearly Gallons Per Capita Buy               -0.144467   \n",
       "\n",
       "                                      Price Per Liter (USD)  \\\n",
       "Daily Oil Consumption (Barrels)                   -0.030106   \n",
       "World Share                                       -0.030217   \n",
       "Yearly Gallons Per Capita                          0.057471   \n",
       "Price Per Gallon (USD)                             0.999997   \n",
       "Price Per Liter (USD)                              1.000000   \n",
       "GDP Per Capita ( USD )                             0.182663   \n",
       "Gallons GDP Per Capita Can Buy                    -0.127428   \n",
       "xTimes Yearly Gallons Per Capita Buy              -0.144567   \n",
       "\n",
       "                                      GDP Per Capita ( USD )  \\\n",
       "Daily Oil Consumption (Barrels)                     0.190066   \n",
       "World Share                                         0.181224   \n",
       "Yearly Gallons Per Capita                           0.622038   \n",
       "Price Per Gallon (USD)                              0.182356   \n",
       "Price Per Liter (USD)                               0.182663   \n",
       "GDP Per Capita ( USD )                              1.000000   \n",
       "Gallons GDP Per Capita Can Buy                      0.188181   \n",
       "xTimes Yearly Gallons Per Capita Buy                0.021875   \n",
       "\n",
       "                                      Gallons GDP Per Capita Can Buy  \\\n",
       "Daily Oil Consumption (Barrels)                             0.051464   \n",
       "World Share                                                 0.064107   \n",
       "Yearly Gallons Per Capita                                   0.150975   \n",
       "Price Per Gallon (USD)                                     -0.127351   \n",
       "Price Per Liter (USD)                                      -0.127428   \n",
       "GDP Per Capita ( USD )                                      0.188181   \n",
       "Gallons GDP Per Capita Can Buy                              1.000000   \n",
       "xTimes Yearly Gallons Per Capita Buy                        0.966148   \n",
       "\n",
       "                                      xTimes Yearly Gallons Per Capita Buy  \n",
       "Daily Oil Consumption (Barrels)                                   0.007332  \n",
       "World Share                                                       0.022268  \n",
       "Yearly Gallons Per Capita                                        -0.025534  \n",
       "Price Per Gallon (USD)                                           -0.144467  \n",
       "Price Per Liter (USD)                                            -0.144567  \n",
       "GDP Per Capita ( USD )                                            0.021875  \n",
       "Gallons GDP Per Capita Can Buy                                    0.966148  \n",
       "xTimes Yearly Gallons Per Capita Buy                              1.000000  "
      ]
     },
     "execution_count": 93,
     "metadata": {},
     "output_type": "execute_result"
    }
   ],
   "source": [
    "df.corr()"
   ]
  },
  {
   "cell_type": "code",
   "execution_count": 98,
   "id": "0d266afd",
   "metadata": {},
   "outputs": [
    {
     "data": {
      "text/plain": [
       "<AxesSubplot:>"
      ]
     },
     "execution_count": 98,
     "metadata": {},
     "output_type": "execute_result"
    },
    {
     "data": {
      "image/png": "[encoded data removed]",
      "text/plain": [
       "<Figure size 1440x720 with 2 Axes>"
      ]
     },
     "metadata": {
      "needs_background": "light"
     },
     "output_type": "display_data"
    }
   ],
   "source": [
    "plt.figure(figsize=(20,10))\n",
    "sns.heatmap(df.corr(), annot=True, fmt='.2f')"
   ]
  },
  {
   "cell_type": "markdown",
   "id": "e5b5ea15",
   "metadata": {},
   "source": [
    "##### Positive correlation exists between the variables:"
   ]
  },
  {
   "cell_type": "markdown",
   "id": "3f1bd632",
   "metadata": {},
   "source": [
    "###### Gallons GDP Per Capita Can Buy and xTimes Yearly Gallons Per Capita Buy\n",
    "###### Yearly Gallons Per Capita and GDP Per Capita (USD)\n",
    "###### GDP Per Capita (USD) and Dailly Oil Consumption (Barrels)\n",
    "###### GDP Per Capita (USD) and World Share\n",
    "###### "
   ]
  },
  {
   "cell_type": "code",
   "execution_count": null,
   "id": "82cc47ca",
   "metadata": {},
   "outputs": [],
   "source": []
  }
 ],
 "metadata": {
  "kernelspec": {
   "display_name": "Python 3 (ipykernel)",
   "language": "python",
   "name": "python3"
  },
  "language_info": {
   "codemirror_mode": {
    "name": "ipython",
    "version": 3
   },
   "file_extension": ".py",
   "mimetype": "text/x-python",
   "name": "python",
   "nbconvert_exporter": "python",
   "pygments_lexer": "ipython3",
   "version": "3.10.5"
  }
 },
 "nbformat": 4,
 "nbformat_minor": 5
}
